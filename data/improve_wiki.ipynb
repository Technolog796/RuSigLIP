{
 "cells": [
  {
   "cell_type": "code",
   "execution_count": 1,
   "metadata": {},
   "outputs": [],
   "source": [
    "import pandas as pd  \n",
    "df = pd.read_json('wiki.json')"
   ]
  },
  {
   "cell_type": "code",
   "execution_count": 2,
   "metadata": {},
   "outputs": [
    {
     "data": {
      "text/html": [
       "<div>\n",
       "<style scoped>\n",
       "    .dataframe tbody tr th:only-of-type {\n",
       "        vertical-align: middle;\n",
       "    }\n",
       "\n",
       "    .dataframe tbody tr th {\n",
       "        vertical-align: top;\n",
       "    }\n",
       "\n",
       "    .dataframe thead th {\n",
       "        text-align: right;\n",
       "    }\n",
       "</style>\n",
       "<table border=\"1\" class=\"dataframe\">\n",
       "  <thead>\n",
       "    <tr style=\"text-align: right;\">\n",
       "      <th></th>\n",
       "      <th>language</th>\n",
       "      <th>image_url</th>\n",
       "      <th>page_title</th>\n",
       "      <th>caption_reference_description</th>\n",
       "      <th>caption_attribution_description</th>\n",
       "      <th>mime_type</th>\n",
       "    </tr>\n",
       "  </thead>\n",
       "  <tbody>\n",
       "    <tr>\n",
       "      <th>0</th>\n",
       "      <td>en</td>\n",
       "      <td>https://upload.wikimedia.org/wikipedia/commons...</td>\n",
       "      <td>Oxydactylus</td>\n",
       "      <td>None</td>\n",
       "      <td>English: Mounted skeleton of Oxydactylus longi...</td>\n",
       "      <td>image/jpeg</td>\n",
       "    </tr>\n",
       "    <tr>\n",
       "      <th>1</th>\n",
       "      <td>en</td>\n",
       "      <td>https://upload.wikimedia.org/wikipedia/commons...</td>\n",
       "      <td>Maine's 3rd congressional district</td>\n",
       "      <td>None</td>\n",
       "      <td>English: Samuel W. Gould, US Representative fr...</td>\n",
       "      <td>image/jpeg</td>\n",
       "    </tr>\n",
       "    <tr>\n",
       "      <th>2</th>\n",
       "      <td>en</td>\n",
       "      <td>https://upload.wikimedia.org/wikipedia/commons...</td>\n",
       "      <td>Cheraw</td>\n",
       "      <td>A c. 1724 English copy of a deerskin Catawba m...</td>\n",
       "      <td>English: \"Map of the Several Nations of Indian...</td>\n",
       "      <td>image/jpeg</td>\n",
       "    </tr>\n",
       "    <tr>\n",
       "      <th>3</th>\n",
       "      <td>en</td>\n",
       "      <td>https://upload.wikimedia.org/wikipedia/commons...</td>\n",
       "      <td>Romanian Front</td>\n",
       "      <td>Nameplate of Gazeta Transilvaniei on June 14, ...</td>\n",
       "      <td>English: Nameplate of the Romanian nationalist...</td>\n",
       "      <td>image/png</td>\n",
       "    </tr>\n",
       "    <tr>\n",
       "      <th>4</th>\n",
       "      <td>en</td>\n",
       "      <td>https://upload.wikimedia.org/wikipedia/commons...</td>\n",
       "      <td>Ádám Kósa</td>\n",
       "      <td>None</td>\n",
       "      <td>English: Hungarian MEP Ádám Kósa</td>\n",
       "      <td>image/jpeg</td>\n",
       "    </tr>\n",
       "    <tr>\n",
       "      <th>...</th>\n",
       "      <td>...</td>\n",
       "      <td>...</td>\n",
       "      <td>...</td>\n",
       "      <td>...</td>\n",
       "      <td>...</td>\n",
       "      <td>...</td>\n",
       "    </tr>\n",
       "    <tr>\n",
       "      <th>5411973</th>\n",
       "      <td>en</td>\n",
       "      <td>https://upload.wikimedia.org/wikipedia/commons...</td>\n",
       "      <td>List of vice presidents of the Examination Yuan</td>\n",
       "      <td>None</td>\n",
       "      <td>English: Jia Jingde, politician of China. 中文: ...</td>\n",
       "      <td>image/jpeg</td>\n",
       "    </tr>\n",
       "    <tr>\n",
       "      <th>5411974</th>\n",
       "      <td>en</td>\n",
       "      <td>https://upload.wikimedia.org/wikipedia/commons...</td>\n",
       "      <td>Brennen Beyer</td>\n",
       "      <td>Beyer in 2013</td>\n",
       "      <td>DSC_9909.jpg</td>\n",
       "      <td>image/jpeg</td>\n",
       "    </tr>\n",
       "    <tr>\n",
       "      <th>5411975</th>\n",
       "      <td>en</td>\n",
       "      <td>https://upload.wikimedia.org/wikipedia/commons...</td>\n",
       "      <td>Kannagi</td>\n",
       "      <td>Kannagi in Tamil Nadu.</td>\n",
       "      <td>English: Idol of Kannaki Amman at Sanctum, Tha...</td>\n",
       "      <td>image/jpeg</td>\n",
       "    </tr>\n",
       "    <tr>\n",
       "      <th>5411976</th>\n",
       "      <td>en</td>\n",
       "      <td>https://upload.wikimedia.org/wikipedia/commons...</td>\n",
       "      <td>Don Det</td>\n",
       "      <td>None</td>\n",
       "      <td>English: Landscape with stormy clouds and a pi...</td>\n",
       "      <td>image/jpeg</td>\n",
       "    </tr>\n",
       "    <tr>\n",
       "      <th>5411977</th>\n",
       "      <td>en</td>\n",
       "      <td>http://upload.wikimedia.org/wikipedia/commons/...</td>\n",
       "      <td>Maria Alm</td>\n",
       "      <td>Main square</td>\n",
       "      <td>English: Maria Alm</td>\n",
       "      <td>image/jpeg</td>\n",
       "    </tr>\n",
       "  </tbody>\n",
       "</table>\n",
       "<p>5411978 rows × 6 columns</p>\n",
       "</div>"
      ],
      "text/plain": [
       "        language                                          image_url  \\\n",
       "0             en  https://upload.wikimedia.org/wikipedia/commons...   \n",
       "1             en  https://upload.wikimedia.org/wikipedia/commons...   \n",
       "2             en  https://upload.wikimedia.org/wikipedia/commons...   \n",
       "3             en  https://upload.wikimedia.org/wikipedia/commons...   \n",
       "4             en  https://upload.wikimedia.org/wikipedia/commons...   \n",
       "...          ...                                                ...   \n",
       "5411973       en  https://upload.wikimedia.org/wikipedia/commons...   \n",
       "5411974       en  https://upload.wikimedia.org/wikipedia/commons...   \n",
       "5411975       en  https://upload.wikimedia.org/wikipedia/commons...   \n",
       "5411976       en  https://upload.wikimedia.org/wikipedia/commons...   \n",
       "5411977       en  http://upload.wikimedia.org/wikipedia/commons/...   \n",
       "\n",
       "                                              page_title  \\\n",
       "0                                            Oxydactylus   \n",
       "1                     Maine's 3rd congressional district   \n",
       "2                                                 Cheraw   \n",
       "3                                         Romanian Front   \n",
       "4                                              Ádám Kósa   \n",
       "...                                                  ...   \n",
       "5411973  List of vice presidents of the Examination Yuan   \n",
       "5411974                                    Brennen Beyer   \n",
       "5411975                                          Kannagi   \n",
       "5411976                                          Don Det   \n",
       "5411977                                        Maria Alm   \n",
       "\n",
       "                             caption_reference_description  \\\n",
       "0                                                     None   \n",
       "1                                                     None   \n",
       "2        A c. 1724 English copy of a deerskin Catawba m...   \n",
       "3        Nameplate of Gazeta Transilvaniei on June 14, ...   \n",
       "4                                                     None   \n",
       "...                                                    ...   \n",
       "5411973                                               None   \n",
       "5411974                                      Beyer in 2013   \n",
       "5411975                             Kannagi in Tamil Nadu.   \n",
       "5411976                                               None   \n",
       "5411977                                        Main square   \n",
       "\n",
       "                           caption_attribution_description   mime_type  \n",
       "0        English: Mounted skeleton of Oxydactylus longi...  image/jpeg  \n",
       "1        English: Samuel W. Gould, US Representative fr...  image/jpeg  \n",
       "2        English: \"Map of the Several Nations of Indian...  image/jpeg  \n",
       "3        English: Nameplate of the Romanian nationalist...   image/png  \n",
       "4                         English: Hungarian MEP Ádám Kósa  image/jpeg  \n",
       "...                                                    ...         ...  \n",
       "5411973  English: Jia Jingde, politician of China. 中文: ...  image/jpeg  \n",
       "5411974                                       DSC_9909.jpg  image/jpeg  \n",
       "5411975  English: Idol of Kannaki Amman at Sanctum, Tha...  image/jpeg  \n",
       "5411976  English: Landscape with stormy clouds and a pi...  image/jpeg  \n",
       "5411977                                 English: Maria Alm  image/jpeg  \n",
       "\n",
       "[5411978 rows x 6 columns]"
      ]
     },
     "execution_count": 2,
     "metadata": {},
     "output_type": "execute_result"
    }
   ],
   "source": [
    "df"
   ]
  },
  {
   "cell_type": "code",
   "execution_count": 3,
   "metadata": {},
   "outputs": [],
   "source": [
    "df_en = df[df['caption_reference_description'].notna()]"
   ]
  },
  {
   "cell_type": "code",
   "execution_count": 4,
   "metadata": {},
   "outputs": [
    {
     "name": "stdout",
     "output_type": "stream",
     "text": [
      "Requirement already satisfied: torchmetrics in /home/jovyan/.imgenv-sharp-lichterman-0/lib/python3.7/site-packages (0.11.4)\n",
      "Requirement already satisfied: numpy>=1.17.2 in /home/user/conda/lib/python3.7/site-packages (from torchmetrics) (1.21.5)\n",
      "Requirement already satisfied: packaging in /home/user/conda/lib/python3.7/site-packages (from torchmetrics) (21.3)\n",
      "Requirement already satisfied: torch>=1.8.1 in /home/jovyan/.imgenv-sharp-lichterman-0/lib/python3.7/site-packages (from torchmetrics) (1.13.1)\n",
      "Requirement already satisfied: typing-extensions in /home/user/conda/lib/python3.7/site-packages (from torchmetrics) (4.0.1)\n",
      "Requirement already satisfied: nvidia-cuda-nvrtc-cu11==11.7.99 in /home/jovyan/.imgenv-sharp-lichterman-0/lib/python3.7/site-packages (from torch>=1.8.1->torchmetrics) (11.7.99)\n",
      "Requirement already satisfied: nvidia-cudnn-cu11==8.5.0.96 in /home/jovyan/.imgenv-sharp-lichterman-0/lib/python3.7/site-packages (from torch>=1.8.1->torchmetrics) (8.5.0.96)\n",
      "Requirement already satisfied: nvidia-cuda-runtime-cu11==11.7.99 in /home/jovyan/.imgenv-sharp-lichterman-0/lib/python3.7/site-packages (from torch>=1.8.1->torchmetrics) (11.7.99)\n",
      "Requirement already satisfied: nvidia-cublas-cu11==11.10.3.66 in /home/jovyan/.imgenv-sharp-lichterman-0/lib/python3.7/site-packages (from torch>=1.8.1->torchmetrics) (11.10.3.66)\n",
      "Requirement already satisfied: setuptools in /home/jovyan/.imgenv-sharp-lichterman-0/lib/python3.7/site-packages (from nvidia-cublas-cu11==11.10.3.66->torch>=1.8.1->torchmetrics) (60.5.0)\n",
      "Requirement already satisfied: wheel in /home/jovyan/.imgenv-sharp-lichterman-0/lib/python3.7/site-packages (from nvidia-cublas-cu11==11.10.3.66->torch>=1.8.1->torchmetrics) (0.37.1)\n",
      "Requirement already satisfied: pyparsing!=3.0.5,>=2.0.2 in /home/user/conda/lib/python3.7/site-packages (from packaging->torchmetrics) (3.0.7)\n",
      "Note: you may need to restart the kernel to use updated packages.\n"
     ]
    }
   ],
   "source": [
    "%pip install torchmetrics"
   ]
  },
  {
   "cell_type": "code",
   "execution_count": 11,
   "metadata": {},
   "outputs": [
    {
     "name": "stdout",
     "output_type": "stream",
     "text": [
      "Note: you may need to restart the kernel to use updated packages.\n"
     ]
    }
   ],
   "source": [
    "%pip install transformers>=4.0"
   ]
  },
  {
   "cell_type": "code",
   "execution_count": 4,
   "metadata": {},
   "outputs": [],
   "source": [
    "import torch\n",
    "from torchmetrics.multimodal.clip_score import CLIPScore\n",
    "metric = CLIPScore(model_name_or_path=\"openai/clip-vit-base-patch16\")"
   ]
  },
  {
   "cell_type": "code",
   "execution_count": 6,
   "metadata": {},
   "outputs": [
    {
     "name": "stdout",
     "output_type": "stream",
     "text": [
      "Requirement already satisfied: opencv-python in /home/user/conda/lib/python3.7/site-packages (4.5.5.62)\n",
      "Requirement already satisfied: numpy>=1.14.5 in /home/user/conda/lib/python3.7/site-packages (from opencv-python) (1.21.5)\n",
      "Note: you may need to restart the kernel to use updated packages.\n"
     ]
    }
   ],
   "source": [
    "%pip install opencv-python"
   ]
  },
  {
   "cell_type": "code",
   "execution_count": 7,
   "metadata": {},
   "outputs": [
    {
     "name": "stdout",
     "output_type": "stream",
     "text": [
      "Collecting torchvision\n",
      "  Using cached torchvision-0.14.1-cp37-cp37m-manylinux1_x86_64.whl (24.2 MB)\n",
      "Requirement already satisfied: pillow!=8.3.*,>=5.3.0 in /home/user/conda/lib/python3.7/site-packages (from torchvision) (9.0.0)\n",
      "Requirement already satisfied: numpy in /home/user/conda/lib/python3.7/site-packages (from torchvision) (1.21.5)\n",
      "Requirement already satisfied: torch==1.13.1 in /home/jovyan/.imgenv-sharp-lichterman-0/lib/python3.7/site-packages (from torchvision) (1.13.1)\n",
      "Requirement already satisfied: requests in /home/user/conda/lib/python3.7/site-packages (from torchvision) (2.27.1)\n",
      "Requirement already satisfied: typing-extensions in /home/user/conda/lib/python3.7/site-packages (from torchvision) (4.0.1)\n",
      "Requirement already satisfied: nvidia-cuda-runtime-cu11==11.7.99 in /home/jovyan/.imgenv-sharp-lichterman-0/lib/python3.7/site-packages (from torch==1.13.1->torchvision) (11.7.99)\n",
      "Requirement already satisfied: nvidia-cudnn-cu11==8.5.0.96 in /home/jovyan/.imgenv-sharp-lichterman-0/lib/python3.7/site-packages (from torch==1.13.1->torchvision) (8.5.0.96)\n",
      "Requirement already satisfied: nvidia-cuda-nvrtc-cu11==11.7.99 in /home/jovyan/.imgenv-sharp-lichterman-0/lib/python3.7/site-packages (from torch==1.13.1->torchvision) (11.7.99)\n",
      "Requirement already satisfied: nvidia-cublas-cu11==11.10.3.66 in /home/jovyan/.imgenv-sharp-lichterman-0/lib/python3.7/site-packages (from torch==1.13.1->torchvision) (11.10.3.66)\n",
      "Requirement already satisfied: wheel in /home/jovyan/.imgenv-sharp-lichterman-0/lib/python3.7/site-packages (from nvidia-cublas-cu11==11.10.3.66->torch==1.13.1->torchvision) (0.37.1)\n",
      "Requirement already satisfied: setuptools in /home/jovyan/.imgenv-sharp-lichterman-0/lib/python3.7/site-packages (from nvidia-cublas-cu11==11.10.3.66->torch==1.13.1->torchvision) (60.5.0)\n",
      "Requirement already satisfied: certifi>=2017.4.17 in /home/user/conda/lib/python3.7/site-packages (from requests->torchvision) (2021.10.8)\n",
      "Requirement already satisfied: urllib3<1.27,>=1.21.1 in /home/user/conda/lib/python3.7/site-packages (from requests->torchvision) (1.26.8)\n",
      "Requirement already satisfied: charset-normalizer~=2.0.0 in /home/user/conda/lib/python3.7/site-packages (from requests->torchvision) (2.0.10)\n",
      "Requirement already satisfied: idna<4,>=2.5 in /home/user/conda/lib/python3.7/site-packages (from requests->torchvision) (3.3)\n",
      "Installing collected packages: torchvision\n",
      "Successfully installed torchvision-0.14.1\n",
      "Note: you may need to restart the kernel to use updated packages.\n"
     ]
    }
   ],
   "source": [
    "%pip install torchvision"
   ]
  },
  {
   "cell_type": "code",
   "execution_count": 5,
   "metadata": {},
   "outputs": [],
   "source": [
    "import cv2\n",
    "import urllib\n",
    "import numpy as np\n",
    "import urllib.request\n",
    "import torchvision.transforms as transforms\n",
    "\n",
    "def load_img_from_url(image_url):\n",
    "  try:\n",
    "    response = urllib.request.urlopen(image_url)\n",
    "    arr = np.asarray(bytearray(response.read()), dtype=np.uint8)\n",
    "    img = cv2.imdecode(arr, -1)\n",
    "    if cv2.waitKey() & 0xff == 27:\n",
    "      return None\n",
    "    img = cv2.cvtColor(img, cv2.COLOR_BGR2RGB)\n",
    "    transform = transforms.Compose([\n",
    "      transforms.ToTensor()\n",
    "    ])\n",
    "    tensor = transform(img)\n",
    "    return tensor\n",
    "  except:\n",
    "    return None"
   ]
  },
  {
   "cell_type": "code",
   "execution_count": 6,
   "metadata": {},
   "outputs": [],
   "source": [
    "from tqdm import tqdm"
   ]
  },
  {
   "cell_type": "code",
   "execution_count": 7,
   "metadata": {},
   "outputs": [
    {
     "name": "stderr",
     "output_type": "stream",
     "text": [
      "100%|█████████████████████████████████████████████████████████████████| 20/20 [00:56<00:00,  2.83s/it]\n"
     ]
    }
   ],
   "source": [
    "scores = []\n",
    "df_clip = df_en.iloc[0:20]\n",
    "for index, row in tqdm(df_clip.iterrows(), total=df_clip.shape[0]):\n",
    "  image = load_img_from_url(row['image_url'])\n",
    "  if image is not None:\n",
    "    scores.append(metric(image, row['caption_reference_description']))"
   ]
  },
  {
   "cell_type": "code",
   "execution_count": 8,
   "metadata": {},
   "outputs": [
    {
     "data": {
      "text/plain": [
       "[tensor(20.7068, grad_fn=<SqueezeBackward0>),\n",
       " tensor(26.6524, grad_fn=<SqueezeBackward0>),\n",
       " tensor(24.7295, grad_fn=<SqueezeBackward0>),\n",
       " tensor(21.0817, grad_fn=<SqueezeBackward0>),\n",
       " tensor(22.7854, grad_fn=<SqueezeBackward0>),\n",
       " tensor(20.8798, grad_fn=<SqueezeBackward0>),\n",
       " tensor(22.9363, grad_fn=<SqueezeBackward0>),\n",
       " tensor(22.6360, grad_fn=<SqueezeBackward0>),\n",
       " tensor(22.0836, grad_fn=<SqueezeBackward0>),\n",
       " tensor(21.2938, grad_fn=<SqueezeBackward0>),\n",
       " tensor(22.1035, grad_fn=<SqueezeBackward0>),\n",
       " tensor(21.4331, grad_fn=<SqueezeBackward0>),\n",
       " tensor(23.3386, grad_fn=<SqueezeBackward0>),\n",
       " tensor(18.9644, grad_fn=<SqueezeBackward0>),\n",
       " tensor(26.2554, grad_fn=<SqueezeBackward0>),\n",
       " tensor(22.8616, grad_fn=<SqueezeBackward0>),\n",
       " tensor(20.2094, grad_fn=<SqueezeBackward0>),\n",
       " tensor(20.7328, grad_fn=<SqueezeBackward0>),\n",
       " tensor(22.4470, grad_fn=<SqueezeBackward0>)]"
      ]
     },
     "execution_count": 8,
     "metadata": {},
     "output_type": "execute_result"
    }
   ],
   "source": [
    "scores"
   ]
  },
  {
   "cell_type": "code",
   "execution_count": 12,
   "metadata": {},
   "outputs": [
    {
     "name": "stdout",
     "output_type": "stream",
     "text": [
      "huggingface/tokenizers: The current process just got forked, after parallelism has already been used. Disabling parallelism to avoid deadlocks...\n",
      "To disable this warning, you can either:\n",
      "\t- Avoid using `tokenizers` before the fork if possible\n",
      "\t- Explicitly set the environment variable TOKENIZERS_PARALLELISM=(true | false)\n",
      "Requirement already satisfied: matplotlib in /home/user/conda/lib/python3.7/site-packages (3.5.1)\n",
      "Requirement already satisfied: kiwisolver>=1.0.1 in /home/user/conda/lib/python3.7/site-packages (from matplotlib) (1.3.2)\n",
      "Requirement already satisfied: pillow>=6.2.0 in /home/user/conda/lib/python3.7/site-packages (from matplotlib) (9.0.0)\n",
      "Requirement already satisfied: fonttools>=4.22.0 in /home/user/conda/lib/python3.7/site-packages (from matplotlib) (4.28.5)\n",
      "Requirement already satisfied: numpy>=1.17 in /home/user/conda/lib/python3.7/site-packages (from matplotlib) (1.21.5)\n",
      "Requirement already satisfied: python-dateutil>=2.7 in /home/user/conda/lib/python3.7/site-packages (from matplotlib) (2.8.2)\n",
      "Requirement already satisfied: pyparsing>=2.2.1 in /home/user/conda/lib/python3.7/site-packages (from matplotlib) (3.0.7)\n",
      "Requirement already satisfied: packaging>=20.0 in /home/user/conda/lib/python3.7/site-packages (from matplotlib) (21.3)\n",
      "Requirement already satisfied: cycler>=0.10 in /home/user/conda/lib/python3.7/site-packages (from matplotlib) (0.11.0)\n",
      "Requirement already satisfied: six>=1.5 in /home/user/conda/lib/python3.7/site-packages (from python-dateutil>=2.7->matplotlib) (1.16.0)\n",
      "Note: you may need to restart the kernel to use updated packages.\n"
     ]
    }
   ],
   "source": [
    "%pip install matplotlib"
   ]
  },
  {
   "cell_type": "code",
   "execution_count": 10,
   "metadata": {},
   "outputs": [],
   "source": [
    "# fig_, ax_ = metric.plot(scores)"
   ]
  },
  {
   "cell_type": "code",
   "execution_count": 12,
   "metadata": {},
   "outputs": [],
   "source": [
    "import re\n",
    "R = r'\\b(?![A-Za-z0-9]+[!\"#$%&\\'()*+,\\\\ -./:;<=>?@[\\]^{|}])\\w+\\b'\n",
    "df_en.loc[:, 'caption_reference_description'] = df_en.caption_reference_description.apply(lambda x : np.nan if pd.isna(x) else re.sub(R, '', (str(x) + ' ')))"
   ]
  },
  {
   "cell_type": "code",
   "execution_count": 13,
   "metadata": {},
   "outputs": [],
   "source": [
    "mask = ((df_en.caption_reference_description == '') | (df_en.caption_reference_description.str.contains('^[0-9!\"#$%&\\'()*+,\\\\ -./:;<=>?@[\\]^{|}\\s]+$')))\n",
    "df_en = df_en[~mask]"
   ]
  },
  {
   "cell_type": "code",
   "execution_count": 14,
   "metadata": {},
   "outputs": [],
   "source": [
    "R = re.compile(r'[A-Za-z0-9]')\n",
    "df_en.loc[:, 'caption_reference_description'] = df_en.caption_reference_description.apply(lambda x: str(x)[: (0 if len(R.findall(str(x))) == 0 else str(x).rfind(R.findall(str(x))[-1])) + 1])"
   ]
  },
  {
   "cell_type": "code",
   "execution_count": 16,
   "metadata": {},
   "outputs": [],
   "source": [
    "df_en = df_en.dropna(subset=['caption_reference_description', 'image_url'])"
   ]
  },
  {
   "cell_type": "code",
   "execution_count": 17,
   "metadata": {},
   "outputs": [
    {
     "data": {
      "text/html": [
       "<div>\n",
       "<style scoped>\n",
       "    .dataframe tbody tr th:only-of-type {\n",
       "        vertical-align: middle;\n",
       "    }\n",
       "\n",
       "    .dataframe tbody tr th {\n",
       "        vertical-align: top;\n",
       "    }\n",
       "\n",
       "    .dataframe thead th {\n",
       "        text-align: right;\n",
       "    }\n",
       "</style>\n",
       "<table border=\"1\" class=\"dataframe\">\n",
       "  <thead>\n",
       "    <tr style=\"text-align: right;\">\n",
       "      <th></th>\n",
       "      <th>language</th>\n",
       "      <th>image_url</th>\n",
       "      <th>page_title</th>\n",
       "      <th>caption_reference_description</th>\n",
       "      <th>caption_attribution_description</th>\n",
       "      <th>mime_type</th>\n",
       "    </tr>\n",
       "  </thead>\n",
       "  <tbody>\n",
       "    <tr>\n",
       "      <th>2</th>\n",
       "      <td>en</td>\n",
       "      <td>https://upload.wikimedia.org/wikipedia/commons...</td>\n",
       "      <td>Cheraw</td>\n",
       "      <td>A c. 1724 English copy of a deerskin Catawba m...</td>\n",
       "      <td>English: \"Map of the Several Nations of Indian...</td>\n",
       "      <td>image/jpeg</td>\n",
       "    </tr>\n",
       "    <tr>\n",
       "      <th>3</th>\n",
       "      <td>en</td>\n",
       "      <td>https://upload.wikimedia.org/wikipedia/commons...</td>\n",
       "      <td>Romanian Front</td>\n",
       "      <td>Nameplate of Gazeta Transilvaniei on June 14, ...</td>\n",
       "      <td>English: Nameplate of the Romanian nationalist...</td>\n",
       "      <td>image/png</td>\n",
       "    </tr>\n",
       "    <tr>\n",
       "      <th>5</th>\n",
       "      <td>en</td>\n",
       "      <td>https://upload.wikimedia.org/wikipedia/commons...</td>\n",
       "      <td>Grey francolin</td>\n",
       "      <td>A captive decoy</td>\n",
       "      <td>English: A decoy grey francolin used by a trap...</td>\n",
       "      <td>image/jpeg</td>\n",
       "    </tr>\n",
       "    <tr>\n",
       "      <th>10</th>\n",
       "      <td>en</td>\n",
       "      <td>https://upload.wikimedia.org/wikipedia/commons...</td>\n",
       "      <td>U.S. Route 41 in Michigan</td>\n",
       "      <td>The former Bus.  41 along Washington Street in...</td>\n",
       "      <td>from left to right: the Old State Savings Bank...</td>\n",
       "      <td>image/jpeg</td>\n",
       "    </tr>\n",
       "    <tr>\n",
       "      <th>12</th>\n",
       "      <td>en</td>\n",
       "      <td>https://upload.wikimedia.org/wikipedia/commons...</td>\n",
       "      <td>Skolkovo Innovation Center</td>\n",
       "      <td>Viktor Vekselberg, head of the Skolkovo Instit...</td>\n",
       "      <td>English: “Presentation by Skolkovo Institute o...</td>\n",
       "      <td>image/jpeg</td>\n",
       "    </tr>\n",
       "    <tr>\n",
       "      <th>...</th>\n",
       "      <td>...</td>\n",
       "      <td>...</td>\n",
       "      <td>...</td>\n",
       "      <td>...</td>\n",
       "      <td>...</td>\n",
       "      <td>...</td>\n",
       "    </tr>\n",
       "    <tr>\n",
       "      <th>5411960</th>\n",
       "      <td>en</td>\n",
       "      <td>https://upload.wikimedia.org/wikipedia/commons...</td>\n",
       "      <td>Urban Transportation Development Corporation</td>\n",
       "      <td>Massachusetts Bay Transportation Authority 170...</td>\n",
       "      <td>English: UTDC/Bombardier 1700 series Red Line ...</td>\n",
       "      <td>image/jpeg</td>\n",
       "    </tr>\n",
       "    <tr>\n",
       "      <th>5411961</th>\n",
       "      <td>en</td>\n",
       "      <td>https://upload.wikimedia.org/wikipedia/commons...</td>\n",
       "      <td>Rocquigny, Ardennes</td>\n",
       "      <td>Fortified church</td>\n",
       "      <td>Français&amp;#160;: Rocquigny (Ardennes) Église fo...</td>\n",
       "      <td>image/jpeg</td>\n",
       "    </tr>\n",
       "    <tr>\n",
       "      <th>5411966</th>\n",
       "      <td>en</td>\n",
       "      <td>https://upload.wikimedia.org/wikipedia/commons...</td>\n",
       "      <td>Bisaldeo temple</td>\n",
       "      <td>Bisaldeo temple in 2016 with submerged courtyard</td>\n",
       "      <td>English: this temple is submerged in water aft...</td>\n",
       "      <td>image/jpeg</td>\n",
       "    </tr>\n",
       "    <tr>\n",
       "      <th>5411974</th>\n",
       "      <td>en</td>\n",
       "      <td>https://upload.wikimedia.org/wikipedia/commons...</td>\n",
       "      <td>Brennen Beyer</td>\n",
       "      <td>Beyer in 2013</td>\n",
       "      <td>DSC_9909.jpg</td>\n",
       "      <td>image/jpeg</td>\n",
       "    </tr>\n",
       "    <tr>\n",
       "      <th>5411977</th>\n",
       "      <td>en</td>\n",
       "      <td>http://upload.wikimedia.org/wikipedia/commons/...</td>\n",
       "      <td>Maria Alm</td>\n",
       "      <td>Main square</td>\n",
       "      <td>English: Maria Alm</td>\n",
       "      <td>image/jpeg</td>\n",
       "    </tr>\n",
       "  </tbody>\n",
       "</table>\n",
       "<p>2484997 rows × 6 columns</p>\n",
       "</div>"
      ],
      "text/plain": [
       "        language                                          image_url  \\\n",
       "2             en  https://upload.wikimedia.org/wikipedia/commons...   \n",
       "3             en  https://upload.wikimedia.org/wikipedia/commons...   \n",
       "5             en  https://upload.wikimedia.org/wikipedia/commons...   \n",
       "10            en  https://upload.wikimedia.org/wikipedia/commons...   \n",
       "12            en  https://upload.wikimedia.org/wikipedia/commons...   \n",
       "...          ...                                                ...   \n",
       "5411960       en  https://upload.wikimedia.org/wikipedia/commons...   \n",
       "5411961       en  https://upload.wikimedia.org/wikipedia/commons...   \n",
       "5411966       en  https://upload.wikimedia.org/wikipedia/commons...   \n",
       "5411974       en  https://upload.wikimedia.org/wikipedia/commons...   \n",
       "5411977       en  http://upload.wikimedia.org/wikipedia/commons/...   \n",
       "\n",
       "                                           page_title  \\\n",
       "2                                              Cheraw   \n",
       "3                                      Romanian Front   \n",
       "5                                      Grey francolin   \n",
       "10                          U.S. Route 41 in Michigan   \n",
       "12                         Skolkovo Innovation Center   \n",
       "...                                               ...   \n",
       "5411960  Urban Transportation Development Corporation   \n",
       "5411961                           Rocquigny, Ardennes   \n",
       "5411966                               Bisaldeo temple   \n",
       "5411974                                 Brennen Beyer   \n",
       "5411977                                     Maria Alm   \n",
       "\n",
       "                             caption_reference_description  \\\n",
       "2        A c. 1724 English copy of a deerskin Catawba m...   \n",
       "3        Nameplate of Gazeta Transilvaniei on June 14, ...   \n",
       "5                                          A captive decoy   \n",
       "10       The former Bus.  41 along Washington Street in...   \n",
       "12       Viktor Vekselberg, head of the Skolkovo Instit...   \n",
       "...                                                    ...   \n",
       "5411960  Massachusetts Bay Transportation Authority 170...   \n",
       "5411961                                   Fortified church   \n",
       "5411966   Bisaldeo temple in 2016 with submerged courtyard   \n",
       "5411974                                      Beyer in 2013   \n",
       "5411977                                        Main square   \n",
       "\n",
       "                           caption_attribution_description   mime_type  \n",
       "2        English: \"Map of the Several Nations of Indian...  image/jpeg  \n",
       "3        English: Nameplate of the Romanian nationalist...   image/png  \n",
       "5        English: A decoy grey francolin used by a trap...  image/jpeg  \n",
       "10       from left to right: the Old State Savings Bank...  image/jpeg  \n",
       "12       English: “Presentation by Skolkovo Institute o...  image/jpeg  \n",
       "...                                                    ...         ...  \n",
       "5411960  English: UTDC/Bombardier 1700 series Red Line ...  image/jpeg  \n",
       "5411961  Français&#160;: Rocquigny (Ardennes) Église fo...  image/jpeg  \n",
       "5411966  English: this temple is submerged in water aft...  image/jpeg  \n",
       "5411974                                       DSC_9909.jpg  image/jpeg  \n",
       "5411977                                 English: Maria Alm  image/jpeg  \n",
       "\n",
       "[2484997 rows x 6 columns]"
      ]
     },
     "execution_count": 17,
     "metadata": {},
     "output_type": "execute_result"
    }
   ],
   "source": [
    "df_en = df_en.drop_duplicates(subset='image_url')\n",
    "df_en"
   ]
  },
  {
   "cell_type": "code",
   "execution_count": 18,
   "metadata": {},
   "outputs": [],
   "source": [
    "df_en = df_en.loc[df[\"caption_reference_description\"].str.count(\" \") <= 20, :]"
   ]
  },
  {
   "cell_type": "code",
   "execution_count": 19,
   "metadata": {},
   "outputs": [],
   "source": [
    "df_en.index = list(range(df_en.shape[0]))"
   ]
  },
  {
   "cell_type": "code",
   "execution_count": 20,
   "metadata": {},
   "outputs": [
    {
     "data": {
      "text/html": [
       "<div>\n",
       "<style scoped>\n",
       "    .dataframe tbody tr th:only-of-type {\n",
       "        vertical-align: middle;\n",
       "    }\n",
       "\n",
       "    .dataframe tbody tr th {\n",
       "        vertical-align: top;\n",
       "    }\n",
       "\n",
       "    .dataframe thead th {\n",
       "        text-align: right;\n",
       "    }\n",
       "</style>\n",
       "<table border=\"1\" class=\"dataframe\">\n",
       "  <thead>\n",
       "    <tr style=\"text-align: right;\">\n",
       "      <th></th>\n",
       "      <th>language</th>\n",
       "      <th>image_url</th>\n",
       "      <th>page_title</th>\n",
       "      <th>caption_reference_description</th>\n",
       "      <th>caption_attribution_description</th>\n",
       "      <th>mime_type</th>\n",
       "    </tr>\n",
       "  </thead>\n",
       "  <tbody>\n",
       "    <tr>\n",
       "      <th>0</th>\n",
       "      <td>en</td>\n",
       "      <td>https://upload.wikimedia.org/wikipedia/commons...</td>\n",
       "      <td>Romanian Front</td>\n",
       "      <td>Nameplate of Gazeta Transilvaniei on June 14, ...</td>\n",
       "      <td>English: Nameplate of the Romanian nationalist...</td>\n",
       "      <td>image/png</td>\n",
       "    </tr>\n",
       "    <tr>\n",
       "      <th>1</th>\n",
       "      <td>en</td>\n",
       "      <td>https://upload.wikimedia.org/wikipedia/commons...</td>\n",
       "      <td>Grey francolin</td>\n",
       "      <td>A captive decoy</td>\n",
       "      <td>English: A decoy grey francolin used by a trap...</td>\n",
       "      <td>image/jpeg</td>\n",
       "    </tr>\n",
       "    <tr>\n",
       "      <th>2</th>\n",
       "      <td>en</td>\n",
       "      <td>https://upload.wikimedia.org/wikipedia/commons...</td>\n",
       "      <td>U.S. Route 41 in Michigan</td>\n",
       "      <td>The former Bus.  41 along Washington Street in...</td>\n",
       "      <td>from left to right: the Old State Savings Bank...</td>\n",
       "      <td>image/jpeg</td>\n",
       "    </tr>\n",
       "    <tr>\n",
       "      <th>3</th>\n",
       "      <td>en</td>\n",
       "      <td>https://upload.wikimedia.org/wikipedia/commons...</td>\n",
       "      <td>Skolkovo Innovation Center</td>\n",
       "      <td>Viktor Vekselberg, head of the Skolkovo Instit...</td>\n",
       "      <td>English: “Presentation by Skolkovo Institute o...</td>\n",
       "      <td>image/jpeg</td>\n",
       "    </tr>\n",
       "    <tr>\n",
       "      <th>4</th>\n",
       "      <td>en</td>\n",
       "      <td>https://upload.wikimedia.org/wikipedia/commons...</td>\n",
       "      <td>Blood Swept Lands and Seas of Red</td>\n",
       "      <td>Volunteer planting poppies</td>\n",
       "      <td>Tower of London Remembers. To mark the centena...</td>\n",
       "      <td>image/jpeg</td>\n",
       "    </tr>\n",
       "    <tr>\n",
       "      <th>...</th>\n",
       "      <td>...</td>\n",
       "      <td>...</td>\n",
       "      <td>...</td>\n",
       "      <td>...</td>\n",
       "      <td>...</td>\n",
       "      <td>...</td>\n",
       "    </tr>\n",
       "    <tr>\n",
       "      <th>2349693</th>\n",
       "      <td>en</td>\n",
       "      <td>https://upload.wikimedia.org/wikipedia/commons...</td>\n",
       "      <td>Urban Transportation Development Corporation</td>\n",
       "      <td>Massachusetts Bay Transportation Authority 170...</td>\n",
       "      <td>English: UTDC/Bombardier 1700 series Red Line ...</td>\n",
       "      <td>image/jpeg</td>\n",
       "    </tr>\n",
       "    <tr>\n",
       "      <th>2349694</th>\n",
       "      <td>en</td>\n",
       "      <td>https://upload.wikimedia.org/wikipedia/commons...</td>\n",
       "      <td>Rocquigny, Ardennes</td>\n",
       "      <td>Fortified church</td>\n",
       "      <td>Français&amp;#160;: Rocquigny (Ardennes) Église fo...</td>\n",
       "      <td>image/jpeg</td>\n",
       "    </tr>\n",
       "    <tr>\n",
       "      <th>2349695</th>\n",
       "      <td>en</td>\n",
       "      <td>https://upload.wikimedia.org/wikipedia/commons...</td>\n",
       "      <td>Bisaldeo temple</td>\n",
       "      <td>Bisaldeo temple in 2016 with submerged courtyard</td>\n",
       "      <td>English: this temple is submerged in water aft...</td>\n",
       "      <td>image/jpeg</td>\n",
       "    </tr>\n",
       "    <tr>\n",
       "      <th>2349696</th>\n",
       "      <td>en</td>\n",
       "      <td>https://upload.wikimedia.org/wikipedia/commons...</td>\n",
       "      <td>Brennen Beyer</td>\n",
       "      <td>Beyer in 2013</td>\n",
       "      <td>DSC_9909.jpg</td>\n",
       "      <td>image/jpeg</td>\n",
       "    </tr>\n",
       "    <tr>\n",
       "      <th>2349697</th>\n",
       "      <td>en</td>\n",
       "      <td>http://upload.wikimedia.org/wikipedia/commons/...</td>\n",
       "      <td>Maria Alm</td>\n",
       "      <td>Main square</td>\n",
       "      <td>English: Maria Alm</td>\n",
       "      <td>image/jpeg</td>\n",
       "    </tr>\n",
       "  </tbody>\n",
       "</table>\n",
       "<p>2349698 rows × 6 columns</p>\n",
       "</div>"
      ],
      "text/plain": [
       "        language                                          image_url  \\\n",
       "0             en  https://upload.wikimedia.org/wikipedia/commons...   \n",
       "1             en  https://upload.wikimedia.org/wikipedia/commons...   \n",
       "2             en  https://upload.wikimedia.org/wikipedia/commons...   \n",
       "3             en  https://upload.wikimedia.org/wikipedia/commons...   \n",
       "4             en  https://upload.wikimedia.org/wikipedia/commons...   \n",
       "...          ...                                                ...   \n",
       "2349693       en  https://upload.wikimedia.org/wikipedia/commons...   \n",
       "2349694       en  https://upload.wikimedia.org/wikipedia/commons...   \n",
       "2349695       en  https://upload.wikimedia.org/wikipedia/commons...   \n",
       "2349696       en  https://upload.wikimedia.org/wikipedia/commons...   \n",
       "2349697       en  http://upload.wikimedia.org/wikipedia/commons/...   \n",
       "\n",
       "                                           page_title  \\\n",
       "0                                      Romanian Front   \n",
       "1                                      Grey francolin   \n",
       "2                           U.S. Route 41 in Michigan   \n",
       "3                          Skolkovo Innovation Center   \n",
       "4                   Blood Swept Lands and Seas of Red   \n",
       "...                                               ...   \n",
       "2349693  Urban Transportation Development Corporation   \n",
       "2349694                           Rocquigny, Ardennes   \n",
       "2349695                               Bisaldeo temple   \n",
       "2349696                                 Brennen Beyer   \n",
       "2349697                                     Maria Alm   \n",
       "\n",
       "                             caption_reference_description  \\\n",
       "0        Nameplate of Gazeta Transilvaniei on June 14, ...   \n",
       "1                                          A captive decoy   \n",
       "2        The former Bus.  41 along Washington Street in...   \n",
       "3        Viktor Vekselberg, head of the Skolkovo Instit...   \n",
       "4                               Volunteer planting poppies   \n",
       "...                                                    ...   \n",
       "2349693  Massachusetts Bay Transportation Authority 170...   \n",
       "2349694                                   Fortified church   \n",
       "2349695   Bisaldeo temple in 2016 with submerged courtyard   \n",
       "2349696                                      Beyer in 2013   \n",
       "2349697                                        Main square   \n",
       "\n",
       "                           caption_attribution_description   mime_type  \n",
       "0        English: Nameplate of the Romanian nationalist...   image/png  \n",
       "1        English: A decoy grey francolin used by a trap...  image/jpeg  \n",
       "2        from left to right: the Old State Savings Bank...  image/jpeg  \n",
       "3        English: “Presentation by Skolkovo Institute o...  image/jpeg  \n",
       "4        Tower of London Remembers. To mark the centena...  image/jpeg  \n",
       "...                                                    ...         ...  \n",
       "2349693  English: UTDC/Bombardier 1700 series Red Line ...  image/jpeg  \n",
       "2349694  Français&#160;: Rocquigny (Ardennes) Église fo...  image/jpeg  \n",
       "2349695  English: this temple is submerged in water aft...  image/jpeg  \n",
       "2349696                                       DSC_9909.jpg  image/jpeg  \n",
       "2349697                                 English: Maria Alm  image/jpeg  \n",
       "\n",
       "[2349698 rows x 6 columns]"
      ]
     },
     "execution_count": 20,
     "metadata": {},
     "output_type": "execute_result"
    }
   ],
   "source": [
    "df_en"
   ]
  },
  {
   "cell_type": "code",
   "execution_count": 21,
   "metadata": {},
   "outputs": [],
   "source": [
    "from torchmetrics.multimodal.clip_score import CLIPScore\n",
    "metric = CLIPScore(model_name_or_path=\"openai/clip-vit-base-patch16\")"
   ]
  },
  {
   "cell_type": "code",
   "execution_count": 22,
   "metadata": {},
   "outputs": [
    {
     "name": "stderr",
     "output_type": "stream",
     "text": [
      "100%|█████████████████████████████████████████████████████████████████| 20/20 [01:03<00:00,  3.17s/it]\n"
     ]
    }
   ],
   "source": [
    "scores = []\n",
    "df_clip = df_en.iloc[0:20]\n",
    "for index, row in tqdm(df_clip.iterrows(), total=df_clip.shape[0]):\n",
    "  image = load_img_from_url(row['image_url'])\n",
    "  if image is not None:\n",
    "    scores.append(metric(image, row['caption_reference_description']))"
   ]
  },
  {
   "cell_type": "code",
   "execution_count": 23,
   "metadata": {},
   "outputs": [
    {
     "data": {
      "text/plain": [
       "[tensor(27.5785, grad_fn=<SqueezeBackward0>),\n",
       " tensor(24.7295, grad_fn=<SqueezeBackward0>),\n",
       " tensor(20.7927, grad_fn=<SqueezeBackward0>),\n",
       " tensor(22.7854, grad_fn=<SqueezeBackward0>),\n",
       " tensor(20.8798, grad_fn=<SqueezeBackward0>),\n",
       " tensor(22.9363, grad_fn=<SqueezeBackward0>),\n",
       " tensor(23.7782, grad_fn=<SqueezeBackward0>),\n",
       " tensor(21.2938, grad_fn=<SqueezeBackward0>),\n",
       " tensor(22.1035, grad_fn=<SqueezeBackward0>),\n",
       " tensor(21.5909, grad_fn=<SqueezeBackward0>),\n",
       " tensor(23.3386, grad_fn=<SqueezeBackward0>),\n",
       " tensor(18.9644, grad_fn=<SqueezeBackward0>),\n",
       " tensor(26.2554, grad_fn=<SqueezeBackward0>),\n",
       " tensor(23.1314, grad_fn=<SqueezeBackward0>),\n",
       " tensor(20.2094, grad_fn=<SqueezeBackward0>),\n",
       " tensor(20.7328, grad_fn=<SqueezeBackward0>),\n",
       " tensor(22.4470, grad_fn=<SqueezeBackward0>),\n",
       " tensor(21.2370, grad_fn=<SqueezeBackward0>),\n",
       " tensor(23.7377, grad_fn=<SqueezeBackward0>)]"
      ]
     },
     "execution_count": 23,
     "metadata": {},
     "output_type": "execute_result"
    }
   ],
   "source": [
    "scores"
   ]
  },
  {
   "cell_type": "code",
   "execution_count": 25,
   "metadata": {},
   "outputs": [],
   "source": [
    "# fig_, ax_ = metric.plot(scores)"
   ]
  },
  {
   "cell_type": "code",
   "execution_count": 26,
   "metadata": {},
   "outputs": [],
   "source": [
    "df_en = df_en[['image_url', 'caption_reference_description']]"
   ]
  },
  {
   "cell_type": "code",
   "execution_count": 27,
   "metadata": {},
   "outputs": [],
   "source": [
    "df_en = df_en.rename(columns={'caption_reference_description' : 'caption_description'})"
   ]
  },
  {
   "cell_type": "code",
   "execution_count": 28,
   "metadata": {},
   "outputs": [],
   "source": [
    "json = df_en.to_json(orient=\"records\")"
   ]
  },
  {
   "cell_type": "code",
   "execution_count": 30,
   "metadata": {},
   "outputs": [],
   "source": [
    "with open(\"wiki_en.json\", \"w\") as outfile: \n",
    "    outfile.write(json)"
   ]
  },
  {
   "cell_type": "markdown",
   "metadata": {},
   "source": [
    "Датасет на русском языке"
   ]
  },
  {
   "cell_type": "code",
   "execution_count": 31,
   "metadata": {},
   "outputs": [],
   "source": [
    "df_r = pd.read_json('wiki_ru_source.json')"
   ]
  },
  {
   "cell_type": "code",
   "execution_count": 32,
   "metadata": {},
   "outputs": [],
   "source": [
    "df_ru = df_r[df_r['caption_reference_description'].notna()]"
   ]
  },
  {
   "cell_type": "code",
   "execution_count": 35,
   "metadata": {},
   "outputs": [],
   "source": [
    "import re\n",
    "R = r'\\b(?![а-яА-ЯёЁ0-9]+[!\"#$%&\\'()*+,\\\\ -./:;<=>?@[\\]^{|}])\\w+\\b'\n",
    "df_ru.loc[:, 'caption_reference_description'] = df_ru.caption_reference_description.apply(lambda x : np.nan if pd.isna(x) else re.sub(R, '', (str(x) + ' ')))"
   ]
  },
  {
   "cell_type": "code",
   "execution_count": 36,
   "metadata": {},
   "outputs": [],
   "source": [
    "mask_ru = ((df_ru.caption_reference_description == '') | (df_ru.caption_reference_description.str.contains('^[0-9!\"#$%&\\'()*+,\\\\ -./:;<=>?@[\\]^{|}\\s]+$')))\n",
    "df_ru = df_ru[~mask_ru]"
   ]
  },
  {
   "cell_type": "code",
   "execution_count": 37,
   "metadata": {},
   "outputs": [],
   "source": [
    "R = re.compile(r'[а-яА-ЯёЁ0-9]')\n",
    "df_ru.loc[:, 'caption_reference_description'] = df_ru.caption_reference_description.apply(lambda x: str(x)[: (0 if len(R.findall(str(x))) == 0 else str(x).rfind(R.findall(str(x))[-1])) + 1])"
   ]
  },
  {
   "cell_type": "code",
   "execution_count": 38,
   "metadata": {},
   "outputs": [],
   "source": [
    "df_ru = df_ru.dropna(subset=['caption_reference_description', 'image_url'])"
   ]
  },
  {
   "cell_type": "code",
   "execution_count": 39,
   "metadata": {},
   "outputs": [],
   "source": [
    "df_ru = df_ru.drop_duplicates(subset='image_url')"
   ]
  },
  {
   "cell_type": "code",
   "execution_count": 40,
   "metadata": {},
   "outputs": [],
   "source": [
    "df_ru = df_ru.loc[df_ru[\"caption_reference_description\"].str.count(\" \") <= 20, :]"
   ]
  },
  {
   "cell_type": "code",
   "execution_count": 41,
   "metadata": {},
   "outputs": [],
   "source": [
    "df_ru.index = list(range(df_ru.shape[0]))"
   ]
  },
  {
   "cell_type": "code",
   "execution_count": 42,
   "metadata": {},
   "outputs": [
    {
     "data": {
      "text/html": [
       "<div>\n",
       "<style scoped>\n",
       "    .dataframe tbody tr th:only-of-type {\n",
       "        vertical-align: middle;\n",
       "    }\n",
       "\n",
       "    .dataframe tbody tr th {\n",
       "        vertical-align: top;\n",
       "    }\n",
       "\n",
       "    .dataframe thead th {\n",
       "        text-align: right;\n",
       "    }\n",
       "</style>\n",
       "<table border=\"1\" class=\"dataframe\">\n",
       "  <thead>\n",
       "    <tr style=\"text-align: right;\">\n",
       "      <th></th>\n",
       "      <th>language</th>\n",
       "      <th>image_url</th>\n",
       "      <th>page_title</th>\n",
       "      <th>caption_reference_description</th>\n",
       "      <th>caption_attribution_description</th>\n",
       "      <th>mime_type</th>\n",
       "    </tr>\n",
       "  </thead>\n",
       "  <tbody>\n",
       "    <tr>\n",
       "      <th>0</th>\n",
       "      <td>ru</td>\n",
       "      <td>https://upload.wikimedia.org/wikipedia/commons...</td>\n",
       "      <td>Умершие в ноябре 2013 года</td>\n",
       "      <td>Владислав Захаревич</td>\n",
       "      <td>Русский: Ректор ЮФУ В.Г. ЗахаревичEnglish: Pro...</td>\n",
       "      <td>image/jpeg</td>\n",
       "    </tr>\n",
       "    <tr>\n",
       "      <th>1</th>\n",
       "      <td>ru</td>\n",
       "      <td>https://upload.wikimedia.org/wikipedia/commons...</td>\n",
       "      <td>Буш (курган)</td>\n",
       "      <td>Зарисовка крупнейшего из Золотых ромбов курган...</td>\n",
       "      <td>English: design of the the Bush Barrow Lozenge...</td>\n",
       "      <td>image/jpeg</td>\n",
       "    </tr>\n",
       "    <tr>\n",
       "      <th>2</th>\n",
       "      <td>ru</td>\n",
       "      <td>https://upload.wikimedia.org/wikipedia/commons...</td>\n",
       "      <td>Трассовый моделизм</td>\n",
       "      <td>Трассовый моделизм. Прохождение моделями виража</td>\n",
       "      <td>日本語: YSR race Mr.ky</td>\n",
       "      <td>image/jpeg</td>\n",
       "    </tr>\n",
       "    <tr>\n",
       "      <th>3</th>\n",
       "      <td>ru</td>\n",
       "      <td>https://upload.wikimedia.org/wikipedia/commons...</td>\n",
       "      <td>Лилейная трещалка</td>\n",
       "      <td>Спаривание</td>\n",
       "      <td>Liloceris lilii (Scopoli, 1763), copula Englis...</td>\n",
       "      <td>image/jpeg</td>\n",
       "    </tr>\n",
       "    <tr>\n",
       "      <th>4</th>\n",
       "      <td>ru</td>\n",
       "      <td>https://upload.wikimedia.org/wikipedia/commons...</td>\n",
       "      <td>Бурылин, Дмитрий Геннадьевич</td>\n",
       "      <td>Музей Дмитрия Бурылина</td>\n",
       "      <td>English: Museum of Industry and Art (Burylin M...</td>\n",
       "      <td>image/jpeg</td>\n",
       "    </tr>\n",
       "    <tr>\n",
       "      <th>...</th>\n",
       "      <td>...</td>\n",
       "      <td>...</td>\n",
       "      <td>...</td>\n",
       "      <td>...</td>\n",
       "      <td>...</td>\n",
       "      <td>...</td>\n",
       "    </tr>\n",
       "    <tr>\n",
       "      <th>449907</th>\n",
       "      <td>ru</td>\n",
       "      <td>https://upload.wikimedia.org/wikipedia/commons...</td>\n",
       "      <td>Мужчина</td>\n",
       "      <td>Изображение мужской особи человека (самец вида...</td>\n",
       "      <td>English: The svg version isn't an exact replic...</td>\n",
       "      <td>image/png</td>\n",
       "    </tr>\n",
       "    <tr>\n",
       "      <th>449908</th>\n",
       "      <td>ru</td>\n",
       "      <td>https://upload.wikimedia.org/wikipedia/commons...</td>\n",
       "      <td>Пасхальный цыплёнок</td>\n",
       "      <td>Пасхальное украшение. ЖД станция в Норрчёпинге...</td>\n",
       "      <td>Svenska: Påsken 2013 vid Norrköpings järnvägst...</td>\n",
       "      <td>image/jpeg</td>\n",
       "    </tr>\n",
       "    <tr>\n",
       "      <th>449909</th>\n",
       "      <td>ru</td>\n",
       "      <td>https://upload.wikimedia.org/wikipedia/commons...</td>\n",
       "      <td>Селезениха (Кировская область)</td>\n",
       "      <td>Вид на «Красный ». Осень 2017 г</td>\n",
       "      <td>Русский: Лето 2018 г.</td>\n",
       "      <td>image/jpeg</td>\n",
       "    </tr>\n",
       "    <tr>\n",
       "      <th>449910</th>\n",
       "      <td>ru</td>\n",
       "      <td>http://upload.wikimedia.org/wikipedia/commons/...</td>\n",
       "      <td>Императорские и королевские уланы</td>\n",
       "      <td>Максимилиан фон Родаковский во главе 13-го пол...</td>\n",
       "      <td>German: Oberst Maximilian Rodakowski an der Sp...</td>\n",
       "      <td>image/jpeg</td>\n",
       "    </tr>\n",
       "    <tr>\n",
       "      <th>449911</th>\n",
       "      <td>ru</td>\n",
       "      <td>https://upload.wikimedia.org/wikipedia/commons...</td>\n",
       "      <td>Мелитопольское училище культуры</td>\n",
       "      <td>Скульптура возле входа в училище</td>\n",
       "      <td>Русский: Скульптура около мелитопольского учил...</td>\n",
       "      <td>image/jpeg</td>\n",
       "    </tr>\n",
       "  </tbody>\n",
       "</table>\n",
       "<p>449912 rows × 6 columns</p>\n",
       "</div>"
      ],
      "text/plain": [
       "       language                                          image_url  \\\n",
       "0            ru  https://upload.wikimedia.org/wikipedia/commons...   \n",
       "1            ru  https://upload.wikimedia.org/wikipedia/commons...   \n",
       "2            ru  https://upload.wikimedia.org/wikipedia/commons...   \n",
       "3            ru  https://upload.wikimedia.org/wikipedia/commons...   \n",
       "4            ru  https://upload.wikimedia.org/wikipedia/commons...   \n",
       "...         ...                                                ...   \n",
       "449907       ru  https://upload.wikimedia.org/wikipedia/commons...   \n",
       "449908       ru  https://upload.wikimedia.org/wikipedia/commons...   \n",
       "449909       ru  https://upload.wikimedia.org/wikipedia/commons...   \n",
       "449910       ru  http://upload.wikimedia.org/wikipedia/commons/...   \n",
       "449911       ru  https://upload.wikimedia.org/wikipedia/commons...   \n",
       "\n",
       "                               page_title  \\\n",
       "0              Умершие в ноябре 2013 года   \n",
       "1                            Буш (курган)   \n",
       "2                      Трассовый моделизм   \n",
       "3                       Лилейная трещалка   \n",
       "4            Бурылин, Дмитрий Геннадьевич   \n",
       "...                                   ...   \n",
       "449907                            Мужчина   \n",
       "449908                Пасхальный цыплёнок   \n",
       "449909     Селезениха (Кировская область)   \n",
       "449910  Императорские и королевские уланы   \n",
       "449911    Мелитопольское училище культуры   \n",
       "\n",
       "                            caption_reference_description  \\\n",
       "0                                     Владислав Захаревич   \n",
       "1       Зарисовка крупнейшего из Золотых ромбов курган...   \n",
       "2         Трассовый моделизм. Прохождение моделями виража   \n",
       "3                                              Спаривание   \n",
       "4                                  Музей Дмитрия Бурылина   \n",
       "...                                                   ...   \n",
       "449907  Изображение мужской особи человека (самец вида...   \n",
       "449908  Пасхальное украшение. ЖД станция в Норрчёпинге...   \n",
       "449909                    Вид на «Красный ». Осень 2017 г   \n",
       "449910  Максимилиан фон Родаковский во главе 13-го пол...   \n",
       "449911                   Скульптура возле входа в училище   \n",
       "\n",
       "                          caption_attribution_description   mime_type  \n",
       "0       Русский: Ректор ЮФУ В.Г. ЗахаревичEnglish: Pro...  image/jpeg  \n",
       "1       English: design of the the Bush Barrow Lozenge...  image/jpeg  \n",
       "2                                     日本語: YSR race Mr.ky  image/jpeg  \n",
       "3       Liloceris lilii (Scopoli, 1763), copula Englis...  image/jpeg  \n",
       "4       English: Museum of Industry and Art (Burylin M...  image/jpeg  \n",
       "...                                                   ...         ...  \n",
       "449907  English: The svg version isn't an exact replic...   image/png  \n",
       "449908  Svenska: Påsken 2013 vid Norrköpings järnvägst...  image/jpeg  \n",
       "449909                              Русский: Лето 2018 г.  image/jpeg  \n",
       "449910  German: Oberst Maximilian Rodakowski an der Sp...  image/jpeg  \n",
       "449911  Русский: Скульптура около мелитопольского учил...  image/jpeg  \n",
       "\n",
       "[449912 rows x 6 columns]"
      ]
     },
     "execution_count": 42,
     "metadata": {},
     "output_type": "execute_result"
    }
   ],
   "source": [
    "df_ru"
   ]
  },
  {
   "cell_type": "code",
   "execution_count": 43,
   "metadata": {},
   "outputs": [],
   "source": [
    "df_ru = df_ru[['image_url', 'caption_reference_description']]"
   ]
  },
  {
   "cell_type": "code",
   "execution_count": 44,
   "metadata": {},
   "outputs": [],
   "source": [
    "df_ru = df_ru.rename(columns={'caption_reference_description' : 'caption_description'})"
   ]
  },
  {
   "cell_type": "code",
   "execution_count": 45,
   "metadata": {},
   "outputs": [],
   "source": [
    "json_ru = df_ru.to_json(orient=\"records\")"
   ]
  },
  {
   "cell_type": "code",
   "execution_count": 46,
   "metadata": {},
   "outputs": [],
   "source": [
    "with open(\"wiki_ru.json\", \"w\") as outfile: \n",
    "    outfile.write(json_ru)"
   ]
  }
 ],
 "metadata": {
  "kernelspec": {
   "display_name": "Python 3 (ipykernel)",
   "language": "python",
   "name": "python3"
  },
  "language_info": {
   "codemirror_mode": {
    "name": "ipython",
    "version": 3
   },
   "file_extension": ".py",
   "mimetype": "text/x-python",
   "name": "python",
   "nbconvert_exporter": "python",
   "pygments_lexer": "ipython3",
   "version": "3.7.12"
  }
 },
 "nbformat": 4,
 "nbformat_minor": 2
}
