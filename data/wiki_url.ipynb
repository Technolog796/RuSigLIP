{
 "cells": [
  {
   "cell_type": "code",
   "execution_count": 1,
   "metadata": {},
   "outputs": [],
   "source": [
    "import pandas as pd"
   ]
  },
  {
   "cell_type": "code",
   "execution_count": 2,
   "metadata": {},
   "outputs": [],
   "source": [
    "df_en = pd.read_csv('wiki_en_jpeg.csv', usecols=[\"image_url\", \"caption_reference_description\"])"
   ]
  },
  {
   "cell_type": "code",
   "execution_count": 3,
   "metadata": {},
   "outputs": [],
   "source": [
    "df_en = df_en.rename(columns={'caption_reference_description' : 'caption_description'})"
   ]
  },
  {
   "cell_type": "code",
   "execution_count": 13,
   "metadata": {},
   "outputs": [],
   "source": [
    "import requests\n",
    "from requests.sessions import Session\n",
    "from threading import Thread,local\n",
    "from queue import Queue\n",
    "\n",
    "idx = list(range(1000))\n",
    "fast = []\n",
    "\n",
    "q = Queue(maxsize=0)\n",
    "\n",
    "for i in idx:\n",
    "    q.put(i)\n",
    "\n",
    "thread_local = local()\n",
    "\n",
    "def get_session() -> Session:\n",
    "    if not hasattr(thread_local,'session'):\n",
    "        thread_local.session = requests.Session()\n",
    "    return thread_local.session\n",
    "\n",
    "def download_link():\n",
    "    session = get_session()\n",
    "    while True:\n",
    "        index = q.get()\n",
    "        url = df_en.iloc[index]['image_url']\n",
    "        with session.get(url, headers={'User-Agent': 'Mozilla/5.0'}) as response:\n",
    "            if response.status_code == 200:\n",
    "                fast.append({'image_url' : url, 'caption_description' : df_en.iloc[index]['caption_description']})\n",
    "        q.task_done()\n",
    "\n",
    "def download_all():\n",
    "    thread_num = 10\n",
    "    for _ in range(thread_num):\n",
    "        t_worker = Thread(target=download_link)\n",
    "        t_worker.start()\n",
    "    q.join()\n",
    "\n",
    "\n",
    "download_all()"
   ]
  },
  {
   "cell_type": "code",
   "execution_count": 8,
   "metadata": {},
   "outputs": [
    {
     "data": {
      "text/plain": [
       "979"
      ]
     },
     "execution_count": 8,
     "metadata": {},
     "output_type": "execute_result"
    }
   ],
   "source": [
    "len(fast)"
   ]
  }
 ],
 "metadata": {
  "kernelspec": {
   "display_name": "Python 3",
   "language": "python",
   "name": "python3"
  },
  "language_info": {
   "codemirror_mode": {
    "name": "ipython",
    "version": 3
   },
   "file_extension": ".py",
   "mimetype": "text/x-python",
   "name": "python",
   "nbconvert_exporter": "python",
   "pygments_lexer": "ipython3",
   "version": "3.11.7"
  }
 },
 "nbformat": 4,
 "nbformat_minor": 2
}
