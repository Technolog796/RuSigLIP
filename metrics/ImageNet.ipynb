{
 "cells": [
  {
   "cell_type": "code",
   "execution_count": 1,
   "id": "4cd071dc",
   "metadata": {
    "ExecuteTime": {
     "end_time": "2024-03-03T18:54:26.449174Z",
     "start_time": "2024-03-03T18:54:24.524178Z"
    }
   },
   "outputs": [],
   "source": [
    "from PIL import Image\n",
    "from transformers import AutoProcessor, AutoModel\n",
    "import torch"
   ]
  },
  {
   "cell_type": "code",
   "execution_count": 8,
   "id": "23db96d9",
   "metadata": {
    "ExecuteTime": {
     "end_time": "2024-03-03T19:37:58.838259Z",
     "start_time": "2024-03-03T19:37:57.155607Z"
    }
   },
   "outputs": [],
   "source": [
    "import deeplake"
   ]
  },
  {
   "cell_type": "code",
   "execution_count": 9,
   "id": "f99061a6",
   "metadata": {
    "ExecuteTime": {
     "end_time": "2024-03-03T19:38:06.474468Z",
     "start_time": "2024-03-03T19:37:58.919262Z"
    }
   },
   "outputs": [
    {
     "name": "stderr",
     "output_type": "stream",
     "text": [
      "-"
     ]
    },
    {
     "name": "stdout",
     "output_type": "stream",
     "text": [
      "Opening dataset in read-only mode as you don't have write permissions.\n"
     ]
    },
    {
     "name": "stderr",
     "output_type": "stream",
     "text": [
      "\\"
     ]
    },
    {
     "name": "stdout",
     "output_type": "stream",
     "text": [
      "This dataset can be visualized in Jupyter Notebook by ds.visualize() or at https://app.activeloop.ai/activeloop/tiny-imagenet-train\n"
     ]
    },
    {
     "name": "stderr",
     "output_type": "stream",
     "text": [
      "|"
     ]
    },
    {
     "name": "stdout",
     "output_type": "stream",
     "text": [
      "hub://activeloop/tiny-imagenet-train loaded successfully.\n"
     ]
    },
    {
     "name": "stderr",
     "output_type": "stream",
     "text": [
      " \r"
     ]
    }
   ],
   "source": [
    "ds = deeplake.load(\"hub://activeloop/tiny-imagenet-train\")"
   ]
  },
  {
   "cell_type": "code",
   "execution_count": 10,
   "id": "9816026f",
   "metadata": {
    "ExecuteTime": {
     "end_time": "2024-03-03T19:38:06.490464Z",
     "start_time": "2024-03-03T19:38:06.476465Z"
    }
   },
   "outputs": [
    {
     "name": "stdout",
     "output_type": "stream",
     "text": [
      "Dataset(path='hub://activeloop/tiny-imagenet-train', read_only=True, tensors=['boxes', 'images', 'labels'])\n",
      "\n",
      " tensor      htype             shape           dtype  compression\n",
      " -------    -------           -------         -------  ------- \n",
      "  boxes      bbox         (100000, 1, 4)      float32   None   \n",
      " images      image     (100000, 64, 64, 1:3)   uint8    jpeg   \n",
      " labels   class_label       (100000, 1)       uint32    None   \n"
     ]
    }
   ],
   "source": [
    "ds.summary()"
   ]
  },
  {
   "cell_type": "code",
   "outputs": [
    {
     "data": {
      "text/plain": "100000"
     },
     "execution_count": 139,
     "metadata": {},
     "output_type": "execute_result"
    }
   ],
   "source": [
    "ds.labels.shape[0]"
   ],
   "metadata": {
    "collapsed": false,
    "ExecuteTime": {
     "end_time": "2024-03-03T20:21:12.128112Z",
     "start_time": "2024-03-03T20:21:12.116112Z"
    }
   },
   "id": "622d6fc8990ccf10",
   "execution_count": 139
  },
  {
   "cell_type": "code",
   "outputs": [],
   "source": [
    "image = ds.images[0].numpy()\n",
    "labels = ds.labels[0].data()"
   ],
   "metadata": {
    "collapsed": false,
    "ExecuteTime": {
     "end_time": "2024-03-03T19:57:31.429850Z",
     "start_time": "2024-03-03T19:57:31.409850Z"
    }
   },
   "id": "ebd46e35b2a6d872",
   "execution_count": 78
  },
  {
   "cell_type": "code",
   "outputs": [
    {
     "data": {
      "text/plain": "<PIL.Image.Image image mode=RGB size=64x64>",
      "image/png": "[encoded data removed]",
      "image/jpeg": "[encoded data removed]"
     },
     "metadata": {},
     "output_type": "display_data"
    }
   ],
   "source": [
    "import PIL.Image\n",
    "import IPython.display\n",
    "IPython.display.display(PIL.Image.fromarray(image))"
   ],
   "metadata": {
    "collapsed": false,
    "ExecuteTime": {
     "end_time": "2024-03-03T19:57:34.652195Z",
     "start_time": "2024-03-03T19:57:34.635198Z"
    }
   },
   "id": "39fd36a4cbccdad6",
   "execution_count": 80
  },
  {
   "cell_type": "code",
   "outputs": [
    {
     "data": {
      "text/plain": "['African elephant',\n 'American alligator',\n 'American lobster',\n 'Arabian camel',\n 'CD player',\n 'Chihuahua',\n 'Christmas stocking',\n 'Egyptian cat',\n 'European fire salamander',\n 'German shepherd',\n 'Labrador retriever',\n 'Persian cat',\n 'Yorkshire terrier',\n 'abacus',\n 'academic gown',\n 'acorn',\n 'albatross',\n 'alp',\n 'altar',\n 'apron',\n 'baboon',\n 'backpack',\n 'banana',\n 'bannister',\n 'barbershop',\n 'barn',\n 'barrel',\n 'basketball',\n 'bathtub',\n 'beach wagon',\n 'beacon',\n 'beaker',\n 'bee',\n 'beer bottle',\n 'bell pepper',\n 'bighorn',\n 'bikini',\n 'binoculars',\n 'birdhouse',\n 'bison',\n 'black stork',\n 'black widow',\n 'boa constrictor',\n 'bow tie',\n 'brain coral',\n 'brass',\n 'broom',\n 'brown bear',\n 'bucket',\n 'bullet train',\n 'bullfrog',\n 'butcher shop',\n 'candle',\n 'cannon',\n 'cardigan',\n 'cash machine',\n 'cauliflower',\n 'centipede',\n 'chain',\n 'chest',\n 'chimpanzee',\n 'cliff',\n 'cliff dwelling',\n 'cockroach',\n 'comic book',\n 'computer keyboard',\n 'confectionery',\n 'convertible',\n 'coral reef',\n 'cougar',\n 'crane',\n 'dam',\n 'desk',\n 'dining table',\n 'dragonfly',\n 'drumstick',\n 'dugong',\n 'dumbbell',\n 'espresso',\n 'flagpole',\n 'fly',\n 'fountain',\n 'freight car',\n 'frying pan',\n 'fur coat',\n 'gasmask',\n 'gazelle',\n 'go-kart',\n 'golden retriever',\n 'goldfish',\n 'gondola',\n 'goose',\n 'grasshopper',\n 'guacamole',\n 'guinea pig',\n 'hog',\n 'hourglass',\n 'iPod',\n 'ice cream',\n 'ice lolly',\n 'jellyfish',\n 'jinrikisha',\n 'kimono',\n 'king penguin',\n 'koala',\n 'ladybug',\n 'lakeside',\n 'lampshade',\n 'lawn mower',\n 'lemon',\n 'lesser panda',\n 'lifeboat',\n 'limousine',\n 'lion',\n 'magnetic compass',\n 'mantis',\n 'mashed potato',\n 'maypole',\n 'meat loaf',\n 'military uniform',\n 'miniskirt',\n 'monarch',\n 'moving van',\n 'mushroom',\n 'nail',\n 'neck brace',\n 'obelisk',\n 'oboe',\n 'orange',\n 'orangutan',\n 'organ',\n 'ox',\n 'parking meter',\n 'pay-phone',\n 'picket fence',\n 'pill bottle',\n 'pizza',\n 'plate',\n 'plunger',\n 'pole',\n 'police van',\n 'pomegranate',\n 'poncho',\n 'pop bottle',\n 'potpie',\n \"potter's wheel\",\n 'pretzel',\n 'projectile',\n 'punching bag',\n 'reel',\n 'refrigerator',\n 'remote control',\n 'rocking chair',\n 'rugby ball',\n 'sandal',\n 'school bus',\n 'scoreboard',\n 'scorpion',\n 'sea cucumber',\n 'sea slug',\n 'seashore',\n 'sewing machine',\n 'slug',\n 'snail',\n 'snorkel',\n 'sock',\n 'sombrero',\n 'space heater',\n 'spider web',\n 'spiny lobster',\n 'sports car',\n 'standard poodle',\n 'steel arch bridge',\n 'stopwatch',\n 'sulphur butterfly',\n 'sunglasses',\n 'suspension bridge',\n 'swimming trunks',\n 'syringe',\n 'tabby',\n 'tailed frog',\n 'tarantula',\n 'teapot',\n 'teddy',\n 'thatch',\n 'torch',\n 'tractor',\n 'trilobite',\n 'triumphal arch',\n 'trolleybus',\n 'turnstile',\n 'umbrella',\n 'vestment',\n 'viaduct',\n 'volleyball',\n 'walking stick',\n 'water jug',\n 'water tower',\n 'wok',\n 'wooden spoon']"
     },
     "execution_count": 140,
     "metadata": {},
     "output_type": "execute_result"
    }
   ],
   "source": [
    "all_labels = set([i[0] for i in ds.labels[0:100000].data(aslist=True)['text']])\n",
    "all_labels = sorted(all_labels)\n",
    "all_labels"
   ],
   "metadata": {
    "collapsed": false,
    "ExecuteTime": {
     "end_time": "2024-03-03T20:21:29.016950Z",
     "start_time": "2024-03-03T20:21:28.365820Z"
    }
   },
   "id": "d59fe4c82c897ed8",
   "execution_count": 140
  },
  {
   "cell_type": "code",
   "execution_count": 5,
   "id": "93a5cb81",
   "metadata": {
    "ExecuteTime": {
     "end_time": "2024-03-03T18:55:22.420763Z",
     "start_time": "2024-03-03T18:55:17.446690Z"
    }
   },
   "outputs": [],
   "source": [
    "model = AutoModel.from_pretrained(\"google/siglip-base-patch16-224\")\n",
    "processor = AutoProcessor.from_pretrained(\"google/siglip-base-patch16-224\")"
   ]
  },
  {
   "cell_type": "code",
   "outputs": [],
   "source": [
    "import random"
   ],
   "metadata": {
    "collapsed": false,
    "ExecuteTime": {
     "end_time": "2024-03-03T20:12:05.774581Z",
     "start_time": "2024-03-03T20:12:05.761586Z"
    }
   },
   "id": "2d48e0cd427e9e60",
   "execution_count": 119
  },
  {
   "cell_type": "code",
   "outputs": [],
   "source": [
    "def image_texts(i):\n",
    "    if i >= ds.labels.shape[0]:\n",
    "        return None\n",
    "    image = ds.images[i].numpy()\n",
    "    name = ds.labels[0].data()['text'][0]\n",
    "    i = random.randint(0, len(all_labels) - 1)\n",
    "    while all_labels[i] == name:\n",
    "        i = random.randint(0, len(all_labels) - 1)\n",
    "    texts = [name, all_labels[i]]\n",
    "    return (image, texts)"
   ],
   "metadata": {
    "collapsed": false,
    "ExecuteTime": {
     "end_time": "2024-03-03T20:22:03.689792Z",
     "start_time": "2024-03-03T20:22:03.670796Z"
    }
   },
   "id": "87c2e8c415f8b3da",
   "execution_count": 141
  },
  {
   "cell_type": "code",
   "outputs": [
    {
     "name": "stdout",
     "output_type": "stream",
     "text": [
      "22.4% that image 0 is 'picket fence'\n",
      "0.0% that image 1 is 'picket fence'\n",
      "32.0% that image 2 is 'picket fence'\n",
      "0.1% that image 3 is 'picket fence'\n",
      "0.1% that image 4 is 'picket fence'\n"
     ]
    }
   ],
   "source": [
    "for i in range(5):\n",
    "    image, texts = image_texts(i)\n",
    "    inputs = processor(text=texts, images=image, padding=\"max_length\", return_tensors=\"pt\")\n",
    "    with torch.no_grad():\n",
    "        outputs = model(**inputs)\n",
    "    logits_per_image = outputs.logits_per_image\n",
    "    probs = torch.sigmoid(logits_per_image)\n",
    "    print(f\"{probs[0][0]:.1%} that image {i} is '{texts[0]}'\")"
   ],
   "metadata": {
    "collapsed": false,
    "ExecuteTime": {
     "end_time": "2024-03-03T20:24:59.114885Z",
     "start_time": "2024-03-03T20:22:47.602788Z"
    }
   },
   "id": "2133112bc5668b27",
   "execution_count": 142
  }
 ],
 "metadata": {
  "kernelspec": {
   "display_name": "Python 3 (ipykernel)",
   "language": "python",
   "name": "python3"
  },
  "language_info": {
   "codemirror_mode": {
    "name": "ipython",
    "version": 3
   },
   "file_extension": ".py",
   "mimetype": "text/x-python",
   "name": "python",
   "nbconvert_exporter": "python",
   "pygments_lexer": "ipython3",
   "version": "3.7.12"
  }
 },
 "nbformat": 4,
 "nbformat_minor": 5
}
